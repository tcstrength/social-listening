{
 "cells": [
  {
   "cell_type": "code",
   "execution_count": 1,
   "metadata": {},
   "outputs": [
    {
     "name": "stdout",
     "output_type": "stream",
     "text": [
      "/home/jovyan/work\n"
     ]
    }
   ],
   "source": [
    "%load_ext autoreload\n",
    "%autoreload 2\n",
    "%cd /home/jovyan/work\n",
    "\n",
    "import sys\n",
    "sys.path.append(\"/home/jovyan/work/src\")"
   ]
  },
  {
   "cell_type": "code",
   "execution_count": 8,
   "metadata": {},
   "outputs": [],
   "source": [
    "from core import secret_accessor\n",
    "from core import mongo_accessor\n",
    "from crawler import data_access\n",
    "from sentiment import sentiment_analyzer"
   ]
  },
  {
   "cell_type": "code",
   "execution_count": 11,
   "metadata": {},
   "outputs": [],
   "source": [
    "analyzer = sentiment_analyzer.SentimentAnalyzer()\n",
    "conf = secret_accessor.load_mongodb()\n",
    "client = mongo_accessor.create_mongo_client(conf)"
   ]
  },
  {
   "cell_type": "code",
   "execution_count": 23,
   "metadata": {},
   "outputs": [],
   "source": [
    "keyword = \"manu\"\n",
    "comments = data_access.get_comments_by_keyword(client,Í keyword)"
   ]
  },
  {
   "cell_type": "code",
   "execution_count": 25,
   "metadata": {},
   "outputs": [
    {
     "name": "stdout",
     "output_type": "stream",
     "text": [
      "2/2 [==============================] - 0s 44ms/step\n",
      "Average score on social of manulife: 0.5235201716423035\n"
     ]
    }
   ],
   "source": [
    "keyword = \"manulife\"\n",
    "comments = data_access.get_comments_by_keyword(client, keyword)\n",
    "ls = [x.content for x in comments]\n",
    "res = analyzer.bulk_analyze(ls)\n",
    "print(f\"Average score on social of {keyword}: {res.mean()}\")"
   ]
  },
  {
   "cell_type": "code",
   "execution_count": 26,
   "metadata": {},
   "outputs": [
    {
     "name": "stdout",
     "output_type": "stream",
     "text": [
      "28/28 [==============================] - 1s 32ms/step\n",
      "Average score on social of prudential viet nam: 0.6379086971282959\n"
     ]
    }
   ],
   "source": [
    "keyword = \"prudential viet nam\"\n",
    "comments = data_access.get_comments_by_keyword(client, keyword)\n",
    "ls = [x.content for x in comments]\n",
    "res = analyzer.bulk_analyze(ls)\n",
    "print(f\"Average score on social of {keyword}: {res.mean()}\")"
   ]
  }
 ],
 "metadata": {
  "kernelspec": {
   "display_name": "base",
   "language": "python",
   "name": "python3"
  },
  "language_info": {
   "codemirror_mode": {
    "name": "ipython",
    "version": 3
   },
   "file_extension": ".py",
   "mimetype": "text/x-python",
   "name": "python",
   "nbconvert_exporter": "python",
   "pygments_lexer": "ipython3",
   "version": "3.9.6"
  }
 },
 "nbformat": 4,
 "nbformat_minor": 2
}
