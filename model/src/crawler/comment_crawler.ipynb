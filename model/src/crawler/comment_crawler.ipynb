{
 "cells": [
  {
   "cell_type": "code",
   "execution_count": 1,
   "metadata": {},
   "outputs": [
    {
     "name": "stdout",
     "output_type": "stream",
     "text": [
      "/home/jovyan/work\n"
     ]
    }
   ],
   "source": [
    "%load_ext autoreload\n",
    "%autoreload 2\n",
    "%cd /home/jovyan/work\n",
    "\n",
    "import sys\n",
    "sys.path.append(\"/home/jovyan/work/src\")"
   ]
  },
  {
   "cell_type": "code",
   "execution_count": 2,
   "metadata": {},
   "outputs": [],
   "source": [
    "from core import secret_accessor\n",
    "from core import mongo_accessor\n",
    "from crawler import facebook_handler\n",
    "from crawler import data_access\n",
    "from entity import post_entity\n",
    "from entity import comment_entity"
   ]
  },
  {
   "cell_type": "code",
   "execution_count": 3,
   "metadata": {},
   "outputs": [],
   "source": [
    "conf = secret_accessor.load_mongodb()\n",
    "client = mongo_accessor.create_mongo_client(conf)\n",
    "driver = facebook_handler.start_driver(debug=True)\n",
    "cookie = secret_accessor.load_cookie()"
   ]
  },
  {
   "cell_type": "code",
   "execution_count": 4,
   "metadata": {},
   "outputs": [
    {
     "data": {
      "text/plain": [
       "True"
      ]
     },
     "execution_count": 4,
     "metadata": {},
     "output_type": "execute_result"
    }
   ],
   "source": [
    "facebook_handler.login_by_cookie(driver, cookie)"
   ]
  },
  {
   "cell_type": "code",
   "execution_count": 5,
   "metadata": {},
   "outputs": [],
   "source": [
    "for post in data_access.get_all_posts(client, post_entity.PLATFORM_FACEBOOK):\n",
    "    obj_id = post._id\n",
    "    post_id = post.platform_post_id\n",
    "    cmt_list = facebook_handler.list_all_post_comments(driver, post_id)\n",
    "\n",
    "    for cmt in cmt_list:\n",
    "        cmt_id, content, cmt_date = cmt\n",
    "        cmt_entity = comment_entity.CommentEntity(obj_id, cmt_id, content, cmt_date)\n",
    "        data_access.insert_comment(client, cmt_entity)"
   ]
  }
 ],
 "metadata": {
  "kernelspec": {
   "display_name": "base",
   "language": "python",
   "name": "python3"
  },
  "language_info": {
   "codemirror_mode": {
    "name": "ipython",
    "version": 3
   },
   "file_extension": ".py",
   "mimetype": "text/x-python",
   "name": "python",
   "nbconvert_exporter": "python",
   "pygments_lexer": "ipython3",
   "version": "3.9.6"
  }
 },
 "nbformat": 4,
 "nbformat_minor": 2
}
