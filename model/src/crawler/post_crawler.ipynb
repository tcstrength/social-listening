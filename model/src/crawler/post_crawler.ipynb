{
 "cells": [
  {
   "cell_type": "code",
   "execution_count": null,
   "id": "ac8aab56",
   "metadata": {},
   "outputs": [],
   "source": [
    "# https://github.com/longnd-1038/crawler_facebook_comment"
   ]
  },
  {
   "cell_type": "code",
   "execution_count": 1,
   "id": "b7ec8f58-a823-4b2c-908e-55ee84ede2ad",
   "metadata": {},
   "outputs": [
    {
     "name": "stdout",
     "output_type": "stream",
     "text": [
      "/home/jovyan/work\n"
     ]
    }
   ],
   "source": [
    "%load_ext autoreload\n",
    "%autoreload 2\n",
    "%cd /home/jovyan/work\n",
    "\n",
    "import sys\n",
    "sys.path.append(\"/home/jovyan/work/src\")"
   ]
  },
  {
   "cell_type": "code",
   "execution_count": 2,
   "id": "d9c7ab1f-5d95-4ff0-a0d3-c350e58ed833",
   "metadata": {},
   "outputs": [],
   "source": [
    "from core import secret_accessor\n",
    "from core import mongo_accessor\n",
    "from entity import post_entity\n",
    "from crawler import facebook_handler\n",
    "from crawler import data_access"
   ]
  },
  {
   "cell_type": "code",
   "execution_count": 10,
   "id": "3fff3dbf",
   "metadata": {},
   "outputs": [],
   "source": [
    "conf = secret_accessor.load_mongodb()\n",
    "client = mongo_accessor.create_mongo_client(conf)\n",
    "driver = facebook_handler.start_driver(debug=True)\n",
    "cookie = secret_accessor.load_cookie()"
   ]
  },
  {
   "cell_type": "code",
   "execution_count": 8,
   "id": "72919ec6",
   "metadata": {},
   "outputs": [],
   "source": [
    "load_more = 10\n",
    "search_keyword = \"manulife viet nam\""
   ]
  },
  {
   "cell_type": "code",
   "execution_count": 11,
   "id": "27c304de-a4ed-4a8b-ba22-33fa7b4585e4",
   "metadata": {},
   "outputs": [
    {
     "data": {
      "text/plain": [
       "True"
      ]
     },
     "execution_count": 11,
     "metadata": {},
     "output_type": "execute_result"
    }
   ],
   "source": [
    "facebook_handler.login_by_cookie(driver, cookie)"
   ]
  },
  {
   "cell_type": "code",
   "execution_count": 7,
   "id": "cf0325df-e718-42ed-82da-8df6ae3ac0a6",
   "metadata": {},
   "outputs": [
    {
     "name": "stderr",
     "output_type": "stream",
     "text": [
      "\u001b[32m2024-01-08 14:59:45.948\u001b[0m | \u001b[1mINFO    \u001b[0m | \u001b[36mcrawler.facebook_handler\u001b[0m:\u001b[36mlist_post_ids\u001b[0m:\u001b[36m120\u001b[0m - \u001b[1mFound 0 posts, try to extract post_id\u001b[0m\n",
      "\u001b[32m2024-01-08 14:59:45.950\u001b[0m | \u001b[1mINFO    \u001b[0m | \u001b[36mcrawler.facebook_handler\u001b[0m:\u001b[36mlist_post_ids\u001b[0m:\u001b[36m127\u001b[0m - \u001b[1m==> set()\u001b[0m\n",
      "\u001b[32m2024-01-08 14:59:45.966\u001b[0m | \u001b[1mINFO    \u001b[0m | \u001b[36mcrawler.facebook_handler\u001b[0m:\u001b[36mload_more_posts\u001b[0m:\u001b[36m136\u001b[0m - \u001b[1mTry to click <Show more>\u001b[0m\n",
      "\u001b[32m2024-01-08 14:59:50.069\u001b[0m | \u001b[1mINFO    \u001b[0m | \u001b[36mcrawler.facebook_handler\u001b[0m:\u001b[36mlist_post_ids\u001b[0m:\u001b[36m120\u001b[0m - \u001b[1mFound 13 posts, try to extract post_id\u001b[0m\n",
      "\u001b[32m2024-01-08 14:59:52.574\u001b[0m | \u001b[1mINFO    \u001b[0m | \u001b[36mcrawler.facebook_handler\u001b[0m:\u001b[36mlist_post_ids\u001b[0m:\u001b[36m127\u001b[0m - \u001b[1m==> {'10160457872154900', '7154054351322725', '3532557966959563', '6973182579462160', '2090274544639189', '3626393037605851', '3569588689981279', '10211243616723932', '3617375528538648', '1807692896349383', '7113058515420040'}\u001b[0m\n",
      "\u001b[32m2024-01-08 14:59:52.592\u001b[0m | \u001b[1mINFO    \u001b[0m | \u001b[36mcrawler.facebook_handler\u001b[0m:\u001b[36mload_more_posts\u001b[0m:\u001b[36m136\u001b[0m - \u001b[1mTry to click <Show more>\u001b[0m\n",
      "\u001b[32m2024-01-08 14:59:59.655\u001b[0m | \u001b[1mINFO    \u001b[0m | \u001b[36mcrawler.facebook_handler\u001b[0m:\u001b[36mlist_post_ids\u001b[0m:\u001b[36m120\u001b[0m - \u001b[1mFound 13 posts, try to extract post_id\u001b[0m\n",
      "\u001b[32m2024-01-08 15:00:01.275\u001b[0m | \u001b[1mINFO    \u001b[0m | \u001b[36mcrawler.facebook_handler\u001b[0m:\u001b[36mlist_post_ids\u001b[0m:\u001b[36m127\u001b[0m - \u001b[1m==> {'908459147355993', '2795777783893269', '4443261282565874', '1689933931503101', '10230747450525539', '7362086613802621', '388941067128740', '3524494751099218', '2323628557832854', '7384360181614755', '3555237781289584', '3580918305457249'}\u001b[0m\n",
      "\u001b[32m2024-01-08 15:00:01.284\u001b[0m | \u001b[1mINFO    \u001b[0m | \u001b[36mcrawler.facebook_handler\u001b[0m:\u001b[36mload_more_posts\u001b[0m:\u001b[36m136\u001b[0m - \u001b[1mTry to click <Show more>\u001b[0m\n",
      "\u001b[32m2024-01-08 15:00:05.659\u001b[0m | \u001b[1mINFO    \u001b[0m | \u001b[36mcrawler.facebook_handler\u001b[0m:\u001b[36mlist_post_ids\u001b[0m:\u001b[36m120\u001b[0m - \u001b[1mFound 14 posts, try to extract post_id\u001b[0m\n",
      "\u001b[32m2024-01-08 15:00:07.600\u001b[0m | \u001b[1mINFO    \u001b[0m | \u001b[36mcrawler.facebook_handler\u001b[0m:\u001b[36mlist_post_ids\u001b[0m:\u001b[36m127\u001b[0m - \u001b[1m==> {'1036244527672707', '2841291972694585', '2387999498065372', '122150496410030677', '7027362594010663', '1450093462481155', '122141175788065166', '750051337158366', '6582175475216372', '2623518624492867', '7074839989264664', '7379423342108439', '2989392427861556', '3725685517666119'}\u001b[0m\n",
      "\u001b[32m2024-01-08 15:00:07.613\u001b[0m | \u001b[1mINFO    \u001b[0m | \u001b[36mcrawler.facebook_handler\u001b[0m:\u001b[36mload_more_posts\u001b[0m:\u001b[36m136\u001b[0m - \u001b[1mTry to click <Show more>\u001b[0m\n",
      "\u001b[32m2024-01-08 15:00:11.089\u001b[0m | \u001b[1mINFO    \u001b[0m | \u001b[36mcrawler.facebook_handler\u001b[0m:\u001b[36mlist_post_ids\u001b[0m:\u001b[36m120\u001b[0m - \u001b[1mFound 15 posts, try to extract post_id\u001b[0m\n",
      "\u001b[32m2024-01-08 15:00:13.391\u001b[0m | \u001b[1mINFO    \u001b[0m | \u001b[36mcrawler.facebook_handler\u001b[0m:\u001b[36mlist_post_ids\u001b[0m:\u001b[36m127\u001b[0m - \u001b[1m==> {'741797597983740', '748323657331134', '735626821934151', '747683887395111', '738131178350382', '739617121535121', '738998321597001', '739921651504668', '3549689328614257', '734069168756583', '734957188667781', '737770818386418', '877913211003168', '1567382740703012', '734656345364532'}\u001b[0m\n",
      "\u001b[32m2024-01-08 15:00:13.399\u001b[0m | \u001b[1mINFO    \u001b[0m | \u001b[36mcrawler.facebook_handler\u001b[0m:\u001b[36mload_more_posts\u001b[0m:\u001b[36m136\u001b[0m - \u001b[1mTry to click <Show more>\u001b[0m\n",
      "\u001b[32m2024-01-08 15:00:15.855\u001b[0m | \u001b[1mINFO    \u001b[0m | \u001b[36mcrawler.facebook_handler\u001b[0m:\u001b[36mlist_post_ids\u001b[0m:\u001b[36m120\u001b[0m - \u001b[1mFound 1 posts, try to extract post_id\u001b[0m\n",
      "\u001b[32m2024-01-08 15:00:15.886\u001b[0m | \u001b[1mINFO    \u001b[0m | \u001b[36mcrawler.facebook_handler\u001b[0m:\u001b[36mlist_post_ids\u001b[0m:\u001b[36m127\u001b[0m - \u001b[1m==> {'733787008784799'}\u001b[0m\n",
      "\u001b[32m2024-01-08 15:00:15.896\u001b[0m | \u001b[1mINFO    \u001b[0m | \u001b[36mcrawler.facebook_handler\u001b[0m:\u001b[36mload_more_posts\u001b[0m:\u001b[36m136\u001b[0m - \u001b[1mTry to click <Show more>\u001b[0m\n",
      "\u001b[32m2024-01-08 15:00:18.382\u001b[0m | \u001b[1mINFO    \u001b[0m | \u001b[36mcrawler.facebook_handler\u001b[0m:\u001b[36mlist_post_ids\u001b[0m:\u001b[36m120\u001b[0m - \u001b[1mFound 0 posts, try to extract post_id\u001b[0m\n",
      "\u001b[32m2024-01-08 15:00:18.383\u001b[0m | \u001b[1mINFO    \u001b[0m | \u001b[36mcrawler.facebook_handler\u001b[0m:\u001b[36mlist_post_ids\u001b[0m:\u001b[36m127\u001b[0m - \u001b[1m==> set()\u001b[0m\n"
     ]
    }
   ],
   "source": [
    "post_ids = facebook_handler.list_all_post_ids(driver, search_keyword, load_more)\n",
    "\n",
    "for post_id in post_ids:\n",
    "    post = post_entity.PostEntity(post_entity.PLATFORM_FACEBOOK, search_keyword, post_id)\n",
    "    data_access.insert_post(client, post)"
   ]
  }
 ],
 "metadata": {
  "kernelspec": {
   "display_name": "Python 3 (ipykernel)",
   "language": "python",
   "name": "python3"
  },
  "language_info": {
   "codemirror_mode": {
    "name": "ipython",
    "version": 3
   },
   "file_extension": ".py",
   "mimetype": "text/x-python",
   "name": "python",
   "nbconvert_exporter": "python",
   "pygments_lexer": "ipython3",
   "version": "3.11.6"
  }
 },
 "nbformat": 4,
 "nbformat_minor": 5
}
